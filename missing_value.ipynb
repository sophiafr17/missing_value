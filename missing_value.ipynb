{
 "cells": [
  {
   "cell_type": "markdown",
   "metadata": {},
   "source": [
    "# Impute missing value by sample with replacement VS. Leave as \"missing_value\""
   ]
  },
  {
   "cell_type": "code",
   "execution_count": 82,
   "metadata": {},
   "outputs": [],
   "source": [
    "import pandas as pd\n",
    "import numpy as np\n",
    "from sklearn.ensemble import RandomForestClassifier\n",
    "from sklearn.metrics import confusion_matrix\n",
    "from sklearn.model_selection import train_test_split"
   ]
  },
  {
   "cell_type": "code",
   "execution_count": 83,
   "metadata": {},
   "outputs": [],
   "source": [
    "url = \"https://drive.google.com/uc?export=download&id=1TC0m9YsNwTuj7UFyI5M02k7V0nGgh0tZ\"\n",
    "data = pd.read_csv(url)\n"
   ]
  },
  {
   "cell_type": "code",
   "execution_count": 84,
   "metadata": {},
   "outputs": [
    {
     "data": {
      "text/html": [
       "<div>\n",
       "<style scoped>\n",
       "    .dataframe tbody tr th:only-of-type {\n",
       "        vertical-align: middle;\n",
       "    }\n",
       "\n",
       "    .dataframe tbody tr th {\n",
       "        vertical-align: top;\n",
       "    }\n",
       "\n",
       "    .dataframe thead th {\n",
       "        text-align: right;\n",
       "    }\n",
       "</style>\n",
       "<table border=\"1\" class=\"dataframe\">\n",
       "  <thead>\n",
       "    <tr style=\"text-align: right;\">\n",
       "      <th></th>\n",
       "      <th>country</th>\n",
       "      <th>age</th>\n",
       "      <th>is_mobile</th>\n",
       "      <th>source</th>\n",
       "      <th>converted</th>\n",
       "    </tr>\n",
       "  </thead>\n",
       "  <tbody>\n",
       "    <tr>\n",
       "      <th>count</th>\n",
       "      <td>95502</td>\n",
       "      <td>120704.000000</td>\n",
       "      <td>120704.000000</td>\n",
       "      <td>120704</td>\n",
       "      <td>120704.000000</td>\n",
       "    </tr>\n",
       "    <tr>\n",
       "      <th>unique</th>\n",
       "      <td>3</td>\n",
       "      <td>NaN</td>\n",
       "      <td>NaN</td>\n",
       "      <td>3</td>\n",
       "      <td>NaN</td>\n",
       "    </tr>\n",
       "    <tr>\n",
       "      <th>top</th>\n",
       "      <td>UK</td>\n",
       "      <td>NaN</td>\n",
       "      <td>NaN</td>\n",
       "      <td>Seo</td>\n",
       "      <td>NaN</td>\n",
       "    </tr>\n",
       "    <tr>\n",
       "      <th>freq</th>\n",
       "      <td>69626</td>\n",
       "      <td>NaN</td>\n",
       "      <td>NaN</td>\n",
       "      <td>59324</td>\n",
       "      <td>NaN</td>\n",
       "    </tr>\n",
       "    <tr>\n",
       "      <th>mean</th>\n",
       "      <td>NaN</td>\n",
       "      <td>44.575258</td>\n",
       "      <td>0.631006</td>\n",
       "      <td>NaN</td>\n",
       "      <td>0.169845</td>\n",
       "    </tr>\n",
       "    <tr>\n",
       "      <th>std</th>\n",
       "      <td>NaN</td>\n",
       "      <td>11.661944</td>\n",
       "      <td>0.482534</td>\n",
       "      <td>NaN</td>\n",
       "      <td>0.375498</td>\n",
       "    </tr>\n",
       "    <tr>\n",
       "      <th>min</th>\n",
       "      <td>NaN</td>\n",
       "      <td>17.000000</td>\n",
       "      <td>0.000000</td>\n",
       "      <td>NaN</td>\n",
       "      <td>0.000000</td>\n",
       "    </tr>\n",
       "    <tr>\n",
       "      <th>25%</th>\n",
       "      <td>NaN</td>\n",
       "      <td>36.000000</td>\n",
       "      <td>0.000000</td>\n",
       "      <td>NaN</td>\n",
       "      <td>0.000000</td>\n",
       "    </tr>\n",
       "    <tr>\n",
       "      <th>50%</th>\n",
       "      <td>NaN</td>\n",
       "      <td>44.000000</td>\n",
       "      <td>1.000000</td>\n",
       "      <td>NaN</td>\n",
       "      <td>0.000000</td>\n",
       "    </tr>\n",
       "    <tr>\n",
       "      <th>75%</th>\n",
       "      <td>NaN</td>\n",
       "      <td>53.000000</td>\n",
       "      <td>1.000000</td>\n",
       "      <td>NaN</td>\n",
       "      <td>0.000000</td>\n",
       "    </tr>\n",
       "    <tr>\n",
       "      <th>max</th>\n",
       "      <td>NaN</td>\n",
       "      <td>80.000000</td>\n",
       "      <td>1.000000</td>\n",
       "      <td>NaN</td>\n",
       "      <td>1.000000</td>\n",
       "    </tr>\n",
       "  </tbody>\n",
       "</table>\n",
       "</div>"
      ],
      "text/plain": [
       "       country            age      is_mobile  source      converted\n",
       "count    95502  120704.000000  120704.000000  120704  120704.000000\n",
       "unique       3            NaN            NaN       3            NaN\n",
       "top         UK            NaN            NaN     Seo            NaN\n",
       "freq     69626            NaN            NaN   59324            NaN\n",
       "mean       NaN      44.575258       0.631006     NaN       0.169845\n",
       "std        NaN      11.661944       0.482534     NaN       0.375498\n",
       "min        NaN      17.000000       0.000000     NaN       0.000000\n",
       "25%        NaN      36.000000       0.000000     NaN       0.000000\n",
       "50%        NaN      44.000000       1.000000     NaN       0.000000\n",
       "75%        NaN      53.000000       1.000000     NaN       0.000000\n",
       "max        NaN      80.000000       1.000000     NaN       1.000000"
      ]
     },
     "execution_count": 84,
     "metadata": {},
     "output_type": "execute_result"
    }
   ],
   "source": [
    "data.describe(include='all')\n",
    "#about 25000 missing values in country"
   ]
  },
  {
   "cell_type": "markdown",
   "metadata": {},
   "source": [
    "## Impute missing value by sample with replacement"
   ]
  },
  {
   "cell_type": "code",
   "execution_count": 85,
   "metadata": {},
   "outputs": [],
   "source": [
    "np.random.seed(4684)\n",
    "\n",
    "data_replace= data.copy()\n",
    "\n",
    "#split into train & test\n",
    "train, test = train_test_split(data_replace,\n",
    "                               test_size=0.34)\n",
    "\n",
    "train = train.reset_index(drop = True).copy()\n",
    "test = test.reset_index(drop = True).copy()\n",
    "\n",
    "# replace NA according to original country distribution\n",
    "train['country'] = train['country'].fillna(pd.Series(np.random.choice(train['country'].dropna(),\n",
    "                                                                      size = len(train['country']))))\n",
    "test['country'] = test['country'].fillna(pd.Series(np.random.choice(test['country'].dropna(),\n",
    "                                                                    size= len(test['country']))))\n",
    "\n",
    "#create dummies\n",
    "train = pd.get_dummies(train, drop_first=True)\n",
    "test = pd.get_dummies(test,drop_first=True)\n",
    "\n"
   ]
  },
  {
   "cell_type": "code",
   "execution_count": 86,
   "metadata": {},
   "outputs": [
    {
     "name": "stdout",
     "output_type": "stream",
     "text": [
      "       0      1\n",
      "0  23926  10233\n",
      "1   2040   4841\n"
     ]
    }
   ],
   "source": [
    "#build RF model\n",
    "rf1 = RandomForestClassifier(n_estimators=50,\n",
    "                             oob_score=True,\n",
    "                             class_weight={0:1,1:5})\n",
    "\n",
    "# n_estimators=50: This sets the number of trees in the forest to 50. A larger number of trees can improve the model's performance but will also increase the training time.\n",
    "# oob_score=True: This enables the use of out-of-bag (OOB) samples to estimate the generalization accuracy. OOB samples are those not included in the bootstrap sample for training a particular tree. Using OOB samples for validation helps in assessing the performance without the need for a separate validation set.\n",
    "# class_weight={0:1, 1:5}: This parameter is used to handle imbalanced classes by assigning different weights to different classes. In this case, class 0 has a weight of 1, and class 1 has a weight of 5. This means that the classifier will pay five times more attention to class 1 compared to class 0, which is useful when class 1 is underrepresented in the dataset.\n",
    "\n",
    "X_train = train.drop('converted', axis =1)\n",
    "y_train = train['converted']\n",
    "\n",
    "rf1.fit(X_train, y_train)\n",
    "\n",
    "# test confusion matrix\n",
    "conf_matrix_sampling = pd.DataFrame(confusion_matrix(test['converted'],\n",
    "                                                     rf1.predict(test.drop('converted', axis=1)),\n",
    "                                                     labels=[0, 1]\n",
    "                                                     ))\n",
    "\n",
    "print(conf_matrix_sampling)\n"
   ]
  },
  {
   "cell_type": "code",
   "execution_count": 87,
   "metadata": {},
   "outputs": [
    {
     "name": "stdout",
     "output_type": "stream",
     "text": [
      "type 1 error: 0.3\n",
      "type 2 error: 0.3\n",
      "accuracy: 0.7\n"
     ]
    }
   ],
   "source": [
    "type1_error = conf_matrix_sampling.loc[0,1]/ (conf_matrix_sampling.loc[0,0] + conf_matrix_sampling.loc[0,1])\n",
    "print(\"type 1 error:\",round(type1_error,2))\n",
    "\n",
    "type2_error = conf_matrix_sampling.loc[1,0]/ (conf_matrix_sampling.loc[1,0] + conf_matrix_sampling.loc[1,1])\n",
    "print(\"type 2 error:\",round(type2_error,2))\n",
    "\n",
    "accuracy = (conf_matrix_sampling.loc[0,0] + conf_matrix_sampling.loc[1,1]) / len(test)\n",
    "print(\"accuracy:\",round(accuracy,2))"
   ]
  },
  {
   "cell_type": "code",
   "execution_count": 88,
   "metadata": {},
   "outputs": [
    {
     "data": {
      "text/plain": [
       "<Axes: >"
      ]
     },
     "execution_count": 88,
     "metadata": {},
     "output_type": "execute_result"
    },
    {
     "data": {
      "image/png": "[encoded data removed]",
      "text/plain": [
       "<Figure size 640x480 with 1 Axes>"
      ]
     },
     "metadata": {},
     "output_type": "display_data"
    }
   ],
   "source": [
    "#variable importance\n",
    "feature_importances = rf1.feature_importances_\n",
    "# print(feature_importances)\n",
    "\n",
    "feature_names = X_train.columns\n",
    "# print(feature_names)\n",
    "\n",
    "importance_series = pd.Series(feature_importances,index=feature_names).sort_values(ascending=True)\n",
    "# print(importance_series)\n",
    "\n",
    "importance_series.plot(kind = 'barh')"
   ]
  },
  {
   "cell_type": "markdown",
   "metadata": {},
   "source": [
    "## Leave as \"missing_value\""
   ]
  },
  {
   "cell_type": "code",
   "execution_count": 89,
   "metadata": {},
   "outputs": [],
   "source": [
    "np.random.seed(4684)\n",
    "\n",
    "data_leave= data.copy()\n",
    "\n",
    "#split into train & test\n",
    "train, test = train_test_split(data_leave,\n",
    "                               test_size=0.34)\n",
    "\n",
    "train = train.reset_index(drop = True).copy()\n",
    "test = test.reset_index(drop = True).copy()\n",
    "\n",
    "# replace NA according to original country distribution\n",
    "train['country'] = train['country'].fillna('missing_country')\n",
    "test['country'] = test['country'].fillna('missing_country')\n",
    "\n",
    "#create dummies\n",
    "train = pd.get_dummies(train, drop_first=True)\n",
    "test = pd.get_dummies(test,drop_first=True)\n"
   ]
  },
  {
   "cell_type": "code",
   "execution_count": 90,
   "metadata": {},
   "outputs": [
    {
     "name": "stdout",
     "output_type": "stream",
     "text": [
      "                age     is_mobile     converted\n",
      "count  79664.000000  79664.000000  79664.000000\n",
      "mean      44.592112      0.630937      0.170968\n",
      "std       11.676208      0.482554      0.376483\n",
      "min       17.000000      0.000000      0.000000\n",
      "25%       36.000000      0.000000      0.000000\n",
      "50%       44.000000      1.000000      0.000000\n",
      "75%       53.000000      1.000000      0.000000\n",
      "max       80.000000      1.000000      1.000000\n"
     ]
    },
    {
     "data": {
      "text/html": [
       "<div>\n",
       "<style scoped>\n",
       "    .dataframe tbody tr th:only-of-type {\n",
       "        vertical-align: middle;\n",
       "    }\n",
       "\n",
       "    .dataframe tbody tr th {\n",
       "        vertical-align: top;\n",
       "    }\n",
       "\n",
       "    .dataframe thead th {\n",
       "        text-align: right;\n",
       "    }\n",
       "</style>\n",
       "<table border=\"1\" class=\"dataframe\">\n",
       "  <thead>\n",
       "    <tr style=\"text-align: right;\">\n",
       "      <th></th>\n",
       "      <th>0</th>\n",
       "      <th>1</th>\n",
       "    </tr>\n",
       "  </thead>\n",
       "  <tbody>\n",
       "    <tr>\n",
       "      <th>0</th>\n",
       "      <td>25411</td>\n",
       "      <td>8748</td>\n",
       "    </tr>\n",
       "    <tr>\n",
       "      <th>1</th>\n",
       "      <td>1788</td>\n",
       "      <td>5093</td>\n",
       "    </tr>\n",
       "  </tbody>\n",
       "</table>\n",
       "</div>"
      ],
      "text/plain": [
       "       0     1\n",
       "0  25411  8748\n",
       "1   1788  5093"
      ]
     },
     "execution_count": 90,
     "metadata": {},
     "output_type": "execute_result"
    }
   ],
   "source": [
    "rf2 = RandomForestClassifier(n_estimators=50,\n",
    "                            oob_score=True,\n",
    "                             class_weight={0:1,1:5})\n",
    "\n",
    "print(train.describe())\n",
    "X_train = train.drop('converted',axis= 1)\n",
    "y_train = train['converted']\n",
    "# print(X_train,y_train)\n",
    "\n",
    "\n",
    "X_test = test.drop('converted',axis= 1)\n",
    "y_test = test['converted']\n",
    "\n",
    "rf2.fit(X_train,y_train)\n",
    "\n",
    "conf_matrix_leave = pd.DataFrame(confusion_matrix(y_test,\n",
    "                                                         rf2.predict(X_test),\n",
    "                                                         labels =[0,1]))\n",
    "\n",
    "conf_matrix_leave\n"
   ]
  },
  {
   "cell_type": "code",
   "execution_count": 91,
   "metadata": {},
   "outputs": [
    {
     "name": "stdout",
     "output_type": "stream",
     "text": [
      "type1_error: 0.26\n",
      "type2_error: 0.26\n",
      "accuracy: 0.74\n"
     ]
    }
   ],
   "source": [
    "type1_error = conf_matrix_leave.loc[0,1] / (conf_matrix_leave.loc[0,1] + conf_matrix_leave.loc[0,0])\n",
    "print(\"type1_error:\", round(type1_error,2))\n",
    "\n",
    "type2_error = conf_matrix_leave.loc[1,0] / (conf_matrix_leave.loc[1,0] + conf_matrix_leave.loc[1,1])\n",
    "print(\"type2_error:\", round(type2_error,2))\n",
    "\n",
    "accuracy = (conf_matrix_leave.loc[0,0] + conf_matrix_leave.loc[1,1]) / len(test)\n",
    "print(\"accuracy:\", round(accuracy,2))\n"
   ]
  },
  {
   "cell_type": "code",
   "execution_count": 92,
   "metadata": {},
   "outputs": [
    {
     "data": {
      "text/plain": [
       "<Axes: >"
      ]
     },
     "execution_count": 92,
     "metadata": {},
     "output_type": "execute_result"
    },
    {
     "data": {
      "image/png": "[encoded data removed]",
      "text/plain": [
       "<Figure size 640x480 with 1 Axes>"
      ]
     },
     "metadata": {},
     "output_type": "display_data"
    }
   ],
   "source": [
    "feature_importances = rf2.feature_importances_\n",
    "# print(feature_importances )\n",
    "feature_names = X_train.columns\n",
    "\n",
    "importance_series = pd.Series(feature_importances,\n",
    "                              index = feature_names).sort_values(ascending=True)\n",
    "importance_series\n",
    "\n",
    "importance_series.plot(kind = 'barh')"
   ]
  },
  {
   "cell_type": "markdown",
   "metadata": {},
   "source": [
    "## Conclusion\n",
    "\n",
    "missing_country contains important information, as it ranks #2 when we fill missing value as \"missing_country\". UK and Ireland becomes less important when we do so as well - this is probably because we artificially increased their importance by imputing and filling.\n",
    "\n",
    "the missing_country model does much better, as demontrated by lower type 1 and type 2 error, and higher accuracy."
   ]
  }
 ],
 "metadata": {
  "kernelspec": {
   "display_name": "Python 3",
   "language": "python",
   "name": "python3"
  },
  "language_info": {
   "codemirror_mode": {
    "name": "ipython",
    "version": 3
   },
   "file_extension": ".py",
   "mimetype": "text/x-python",
   "name": "python",
   "nbconvert_exporter": "python",
   "pygments_lexer": "ipython3",
   "version": "3.11.3"
  }
 },
 "nbformat": 4,
 "nbformat_minor": 2
}
